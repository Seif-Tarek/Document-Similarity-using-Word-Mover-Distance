{
  "nbformat": 4,
  "nbformat_minor": 0,
  "metadata": {
    "colab": {
      "name": "WMD_TextSimilarity.ipynb",
      "provenance": [],
      "collapsed_sections": [],
      "authorship_tag": "ABX9TyMBsfRoRZn3qQ+anmOt1+Q8",
      "include_colab_link": true
    },
    "kernelspec": {
      "name": "python3",
      "display_name": "Python 3"
    },
    "accelerator": "GPU"
  },
  "cells": [
    {
      "cell_type": "markdown",
      "metadata": {
        "id": "view-in-github",
        "colab_type": "text"
      },
      "source": [
        "<a href=\"https://colab.research.google.com/github/Seif-Tarek/Document-Similarity-using-Word-Mover-Distance/blob/master/WMD_TextSimilarity.ipynb\" target=\"_parent\"><img src=\"https://colab.research.google.com/assets/colab-badge.svg\" alt=\"Open In Colab\"/></a>"
      ]
    },
    {
      "cell_type": "code",
      "metadata": {
        "id": "j7KYpxAK_-eQ",
        "colab_type": "code",
        "outputId": "b899f2cd-1895-4273-aaea-93bd116e3e5d",
        "colab": {
          "base_uri": "https://localhost:8080/",
          "height": 201
        }
      },
      "source": [
        "from sklearn.metrics import classification_report,confusion_matrix,mean_squared_error,accuracy_score,roc_auc_score,roc_curve\n",
        "from sklearn.linear_model import LogisticRegression \n",
        "from gensim.models import KeyedVectors\n",
        "from sklearn.externals import joblib \n",
        "import matplotlib.pyplot as  plt\n",
        "from collections import Counter\n",
        "from google.colab import drive\n",
        "import pandas as pd\n",
        "import numpy as np\n",
        "import random\n",
        "import string\n",
        "import math\n",
        "import re\n",
        "import nltk\n",
        "nltk.download(\"stopwords\")\n",
        "from nltk.corpus import stopwords\n",
        "\n",
        "drive.mount('/content/drive')"
      ],
      "execution_count": 1,
      "outputs": [
        {
          "output_type": "stream",
          "text": [
            "/usr/local/lib/python3.6/dist-packages/sklearn/externals/joblib/__init__.py:15: FutureWarning: sklearn.externals.joblib is deprecated in 0.21 and will be removed in 0.23. Please import this functionality directly from joblib, which can be installed with: pip install joblib. If this warning is raised when loading pickled models, you may need to re-serialize those models with scikit-learn 0.21+.\n",
            "  warnings.warn(msg, category=FutureWarning)\n"
          ],
          "name": "stderr"
        },
        {
          "output_type": "stream",
          "text": [
            "[nltk_data] Downloading package stopwords to /root/nltk_data...\n",
            "[nltk_data]   Unzipping corpora/stopwords.zip.\n",
            "Go to this URL in a browser: https://accounts.google.com/o/oauth2/auth?client_id=947318989803-6bn6qk8qdgf4n4g3pfee6491hc0brc4i.apps.googleusercontent.com&redirect_uri=urn%3aietf%3awg%3aoauth%3a2.0%3aoob&response_type=code&scope=email%20https%3a%2f%2fwww.googleapis.com%2fauth%2fdocs.test%20https%3a%2f%2fwww.googleapis.com%2fauth%2fdrive%20https%3a%2f%2fwww.googleapis.com%2fauth%2fdrive.photos.readonly%20https%3a%2f%2fwww.googleapis.com%2fauth%2fpeopleapi.readonly\n",
            "\n",
            "Enter your authorization code:\n",
            "··········\n",
            "Mounted at /content/drive\n"
          ],
          "name": "stdout"
        }
      ]
    },
    {
      "cell_type": "markdown",
      "metadata": {
        "id": "JYURD9O2-CKT",
        "colab_type": "text"
      },
      "source": [
        "## Downloading Word2vec "
      ]
    },
    {
      "cell_type": "code",
      "metadata": {
        "id": "H-5ZPbaIRysR",
        "colab_type": "code",
        "outputId": "b2496bd1-ca3b-4100-be4b-238b0231aa5e",
        "colab": {
          "base_uri": "https://localhost:8080/",
          "height": 274
        }
      },
      "source": [
        "!wget -P /root/input/ -c \"https://s3.amazonaws.com/dl4j-distribution/GoogleNews-vectors-negative300.bin.gz\"\n",
        "EMBEDDING_FILE = '/root/input/GoogleNews-vectors-negative300.bin.gz'\n",
        "word2vec = KeyedVectors.load_word2vec_format(EMBEDDING_FILE, binary=True)"
      ],
      "execution_count": 2,
      "outputs": [
        {
          "output_type": "stream",
          "text": [
            "--2020-05-26 21:53:22--  https://s3.amazonaws.com/dl4j-distribution/GoogleNews-vectors-negative300.bin.gz\n",
            "Resolving s3.amazonaws.com (s3.amazonaws.com)... 52.216.83.19\n",
            "Connecting to s3.amazonaws.com (s3.amazonaws.com)|52.216.83.19|:443... connected.\n",
            "HTTP request sent, awaiting response... 200 OK\n",
            "Length: 1647046227 (1.5G) [application/x-gzip]\n",
            "Saving to: ‘/root/input/GoogleNews-vectors-negative300.bin.gz’\n",
            "\n",
            "GoogleNews-vectors- 100%[===================>]   1.53G  27.3MB/s    in 59s     \n",
            "\n",
            "2020-05-26 21:54:21 (26.7 MB/s) - ‘/root/input/GoogleNews-vectors-negative300.bin.gz’ saved [1647046227/1647046227]\n",
            "\n"
          ],
          "name": "stdout"
        },
        {
          "output_type": "stream",
          "text": [
            "/usr/local/lib/python3.6/dist-packages/smart_open/smart_open_lib.py:253: UserWarning: This function is deprecated, use smart_open.open instead. See the migration notes for details: https://github.com/RaRe-Technologies/smart_open/blob/master/README.rst#migrating-to-the-new-open-function\n",
            "  'See the migration notes for details: %s' % _MIGRATION_NOTES_URL\n"
          ],
          "name": "stderr"
        }
      ]
    },
    {
      "cell_type": "markdown",
      "metadata": {
        "id": "R7RWfFIE-bVB",
        "colab_type": "text"
      },
      "source": [
        "## Reading the dataset\n",
        "Read data from google drive that mounted before.\n",
        "\n",
        "you can download the data from  https://drive.google.com/file/u/4/d/1CUPi6nri5u21DbVYr0MfHSOVOLS2TlYs/view?usp=drive_open."
      ]
    },
    {
      "cell_type": "code",
      "metadata": {
        "id": "02la0rgs_-V9",
        "colab_type": "code",
        "outputId": "7b861966-ea32-400b-fb93-ec0f72629d8a",
        "colab": {
          "base_uri": "https://localhost:8080/",
          "height": 198
        }
      },
      "source": [
        "data = pd.read_csv('drive/My Drive/DocumentSimilarity_Dataset.csv')\n",
        "data = data.sample(frac=1).reset_index(drop=True)\n",
        "\n",
        "data.head()"
      ],
      "execution_count": 3,
      "outputs": [
        {
          "output_type": "execute_result",
          "data": {
            "text/html": [
              "<div>\n",
              "<style scoped>\n",
              "    .dataframe tbody tr th:only-of-type {\n",
              "        vertical-align: middle;\n",
              "    }\n",
              "\n",
              "    .dataframe tbody tr th {\n",
              "        vertical-align: top;\n",
              "    }\n",
              "\n",
              "    .dataframe thead th {\n",
              "        text-align: right;\n",
              "    }\n",
              "</style>\n",
              "<table border=\"1\" class=\"dataframe\">\n",
              "  <thead>\n",
              "    <tr style=\"text-align: right;\">\n",
              "      <th></th>\n",
              "      <th>articles</th>\n",
              "      <th>abstracts</th>\n",
              "      <th>similarity</th>\n",
              "    </tr>\n",
              "  </thead>\n",
              "  <tbody>\n",
              "    <tr>\n",
              "      <th>0</th>\n",
              "      <td>as viral videos go, \"gangnam style\" went gangb...</td>\n",
              "      <td>axelrod says \"it was a mistake\" for obama to s...</td>\n",
              "      <td>0</td>\n",
              "    </tr>\n",
              "    <tr>\n",
              "      <th>1</th>\n",
              "      <td>fueled by seasonal monsoon rains and a nearby ...</td>\n",
              "      <td>eleven people die from landslide, electrocuti...</td>\n",
              "      <td>1</td>\n",
              "    </tr>\n",
              "    <tr>\n",
              "      <th>2</th>\n",
              "      <td>russian president dmitry medvedev said wednesd...</td>\n",
              "      <td>medvedev says the davos forum was considered ...</td>\n",
              "      <td>1</td>\n",
              "    </tr>\n",
              "    <tr>\n",
              "      <th>3</th>\n",
              "      <td>every year the brains behind your favorite rea...</td>\n",
              "      <td>heads of production companies behind \"jersey s...</td>\n",
              "      <td>1</td>\n",
              "    </tr>\n",
              "    <tr>\n",
              "      <th>4</th>\n",
              "      <td>america is a less christian nation than it was...</td>\n",
              "      <td>new survey finds americans less likely to iden...</td>\n",
              "      <td>1</td>\n",
              "    </tr>\n",
              "  </tbody>\n",
              "</table>\n",
              "</div>"
            ],
            "text/plain": [
              "                                            articles  ... similarity\n",
              "0  as viral videos go, \"gangnam style\" went gangb...  ...          0\n",
              "1  fueled by seasonal monsoon rains and a nearby ...  ...          1\n",
              "2  russian president dmitry medvedev said wednesd...  ...          1\n",
              "3  every year the brains behind your favorite rea...  ...          1\n",
              "4  america is a less christian nation than it was...  ...          1\n",
              "\n",
              "[5 rows x 3 columns]"
            ]
          },
          "metadata": {
            "tags": []
          },
          "execution_count": 3
        }
      ]
    },
    {
      "cell_type": "markdown",
      "metadata": {
        "id": "zYHMzuEz-3h8",
        "colab_type": "text"
      },
      "source": [
        "splitting the dataset "
      ]
    },
    {
      "cell_type": "code",
      "metadata": {
        "id": "wrbNL6RGFGu2",
        "colab_type": "code",
        "colab": {}
      },
      "source": [
        "size_of_training_data = 1200\n",
        "f =  int(size_of_training_data/3)\n",
        "def split(dt):\n",
        "  size = len(dt)\n",
        "  train = dt[:size_of_training_data,].reset_index(drop=True)\n",
        "  val = dt[size_of_training_data:size_of_training_data+f,].reset_index(drop=True)\n",
        "  test = dt[size_of_training_data+f:size_of_training_data+2*f,].reset_index(drop=True)\n",
        "  return train,val,test"
      ],
      "execution_count": 0,
      "outputs": []
    },
    {
      "cell_type": "code",
      "metadata": {
        "id": "N9qVFt_2_-Pz",
        "colab_type": "code",
        "outputId": "58b37482-9f55-4f33-dd21-d017e146f669",
        "colab": {
          "base_uri": "https://localhost:8080/",
          "height": 72
        }
      },
      "source": [
        "data = data.sample(frac=1).reset_index(drop=True)\n",
        "\n",
        "train1 = data['articles'].astype('str')\n",
        "train2 = data['abstracts'].astype('str')\n",
        "labels = data['similarity']\n",
        "\n",
        "\n",
        "article, article_val, article_test = split(train1)\n",
        "summary, summary_val, summary_test = split(train2)\n",
        "labels, val_label, test_label = split(labels)\n",
        "print(\"size of training data : \",article.shape[0])\n",
        "print(\"size of validating data : \",summary_val.shape[0])\n",
        "print(\"size of testing data : \",test_label.shape[0])"
      ],
      "execution_count": 6,
      "outputs": [
        {
          "output_type": "stream",
          "text": [
            "size of training data :  1200\n",
            "size of validating data :  400\n",
            "size of testing data :  400\n"
          ],
          "name": "stdout"
        }
      ]
    },
    {
      "cell_type": "markdown",
      "metadata": {
        "id": "zu9yupMsBDNa",
        "colab_type": "text"
      },
      "source": [
        "## Feature Engineering\n",
        "#### 1. Cosine Similarity\n",
        "Cosine similarity is a measure of similarity between two non-zero vectors of an inner product space that measures the cosine of the angle between them.\n",
        "\n",
        "![Alt Text](https://i.imgur.com/HqKjGoQ.jpg)\n",
        "\n",
        "\n",
        "#### 2. Word Mover's Distance\n",
        "Word Mover's Distance (WMD) uses the word embeddings of the words in two texts to measure the minimum distance that the words in one text need to travel in semantic space to reach the words in the other text.\n",
        "\n",
        "The WMD is measured by measuring the minimum euclidean distance between each word in the two documents in word2vec space. if the distance is small then words in the two documents are close to each other.\n",
        "\n",
        "So, If I have the same two sentences:\n",
        "- sentence 1: \"Obama speaks to the media in Illinois\"\n",
        "- sentence 2: \"The president greets the press in Chicago\"\n",
        "\n",
        "After removing stopwords, The word mover distance is small as mentioned in the figure.\n",
        "\n",
        "\n",
        "![Alt Text](https://imgur.com/L1QNfPK.jpg)"
      ]
    },
    {
      "cell_type": "code",
      "metadata": {
        "id": "h5y108zE_-O-",
        "colab_type": "code",
        "colab": {}
      },
      "source": [
        "WORD = re.compile(r\"\\w+\")\n",
        "\n",
        "def text_to_vector(text):\n",
        "    '''\n",
        "        converting the document to a term matrix where all words are listed and beside it the frequency of it.\n",
        "\n",
        "        -- input:\n",
        "                    text: the document as string \n",
        "        -- output:\n",
        "                    Term matrix: Each word in the two documents and its frequency \n",
        "    '''\n",
        "    words = WORD.findall(text)\n",
        "    stopwords = nltk.corpus.stopwords.words('english')\n",
        "    words = [w for w in words if w not in stopwords]\n",
        "    return Counter(words)\n",
        "\n",
        "def get_cosine(doc1, doc2):\n",
        "    '''\n",
        "        Get the cosine similarity between two documents.\n",
        "        Depends on the angle between two non zero vectors which are constructed by each word frequency in the two documents.\n",
        "\n",
        "        -- input:\n",
        "                      doc1: the first document as string\n",
        "                      doc2: the second document as string\n",
        "        -- output:\n",
        "                      cosine similarity score\n",
        "\n",
        "    '''\n",
        "    vec1 = text_to_vector(doc1)\n",
        "    vec2 = text_to_vector(doc2)\n",
        "    intersection = set(vec1.keys()) & set(vec2.keys())\n",
        "    numerator = sum([vec1[x] * vec2[x] for x in intersection])\n",
        "\n",
        "    sum1 = sum([vec1[x] ** 2 for x in list(vec1.keys())])\n",
        "    sum2 = sum([vec2[x] ** 2 for x in list(vec2.keys())])\n",
        "    denominator = math.sqrt(sum1) * math.sqrt(sum2)\n",
        "\n",
        "    if not denominator:\n",
        "        return 0.0\n",
        "    else:\n",
        "        return float(numerator) / denominator\n",
        "        \n",
        "def wordMdistance(doc1,doc2):\n",
        "  '''\n",
        "      return the word mover distance between two documents \n",
        "\n",
        "      -- input:\n",
        "                      doc1: the first document as list of words\n",
        "                      doc2: the second document as list of words\n",
        "      -- output:\n",
        "                      Word Mover's Distance score\n",
        "  '''\n",
        "  sum_dist = 0\n",
        "  i = 0\n",
        "  for word in sent1:\n",
        "    mindist = 1000.0\n",
        "    for word2 in sent2:\n",
        "      try:\n",
        "        j = np.copy(word2vec.get_vector(word))\n",
        "        t = np.copy(word2vec.get_vector(word2))\n",
        "        dista = np.sqrt(sum((j-t)**2))\n",
        "        if(dista < mindist):\n",
        "          mindist = dista\n",
        "      except:\n",
        "        continue\n",
        "    sum_dist+=mindist\n",
        "    i+=1\n",
        "  return sum_dist/i\n",
        "\n",
        "def WMD(doc1,doc2):\n",
        "  '''\n",
        "      Preprocess the document first and remove english stopwords then call the function that calculates the word mover distance\n",
        "     \n",
        "      -- input:\n",
        "                      doc1: the first document as string\n",
        "                      doc2: the second document as string\n",
        "      -- output:\n",
        "                      Word Mover's Distance score\n",
        "  '''\n",
        "  first_doc = doc1.lower().split()\n",
        "  second_doc = doc2.lower().split()\n",
        "  stopwords = nltk.corpus.stopwords.words('english')\n",
        "  first_doc = [w for w in first_doc if w not in stopwords]\n",
        "  second_doc = [w for w in second_doc if w not in stopwords]\n",
        "  return (word2vec.wmdistance(second_doc, first_doc))"
      ],
      "execution_count": 0,
      "outputs": []
    },
    {
      "cell_type": "markdown",
      "metadata": {
        "id": "_6x51uGwD0lR",
        "colab_type": "text"
      },
      "source": [
        "*Extracting features from training data*"
      ]
    },
    {
      "cell_type": "code",
      "metadata": {
        "id": "eBhPEE49ke-2",
        "colab_type": "code",
        "colab": {}
      },
      "source": [
        "training = pd.DataFrame({\"article\":article,\"summary\":summary})\n",
        "training['Cosine'] = training.apply(lambda row: get_cosine(row['article'],row['summary']), axis=1)\n",
        "training['WMD'] = training.apply(lambda row: WMD(row['article'],row['summary']), axis=1)\n",
        "del training['article']\n",
        "del training['summary']"
      ],
      "execution_count": 0,
      "outputs": []
    },
    {
      "cell_type": "markdown",
      "metadata": {
        "id": "C5YDivLBEKiv",
        "colab_type": "text"
      },
      "source": [
        "*Extracting features from validating data*"
      ]
    },
    {
      "cell_type": "code",
      "metadata": {
        "id": "zBQi306tmPLV",
        "colab_type": "code",
        "colab": {}
      },
      "source": [
        "validation = pd.DataFrame({\"article\":article_val,\"summary\":summary_val})\n",
        "validation['Cosine'] = validation.apply(lambda row: get_cosine(row['article'],row['summary']), axis=1)\n",
        "validation['WMD'] = validation.apply(lambda row: WMD(row['article'],row['summary']), axis=1)\n",
        "del validation['article']\n",
        "del validation['summary']"
      ],
      "execution_count": 0,
      "outputs": []
    },
    {
      "cell_type": "markdown",
      "metadata": {
        "id": "pwhf0ZmyENi-",
        "colab_type": "text"
      },
      "source": [
        "*Extracting features from testing data*"
      ]
    },
    {
      "cell_type": "code",
      "metadata": {
        "id": "J33aDol2mamT",
        "colab_type": "code",
        "colab": {}
      },
      "source": [
        "testing = pd.DataFrame({\"article\":article_test,\"summary\":summary_test})\n",
        "testing['Cosine'] = testing.apply(lambda row: get_cosine(row['article'],row['summary']), axis=1)\n",
        "testing['WMD'] = testing.apply(lambda row: WMD(row['article'],row['summary']), axis=1)\n",
        "del testing['article']\n",
        "del testing['summary']"
      ],
      "execution_count": 0,
      "outputs": []
    },
    {
      "cell_type": "markdown",
      "metadata": {
        "id": "PWs5RNtVEVTV",
        "colab_type": "text"
      },
      "source": [
        "## Model Building\n",
        "\n",
        "**Logistic regression** is used for two reasons. \n",
        "- First, the dataset has two classes as output 0 or 1 (similar or not). \n",
        "- Second, Logistic regression outputs probability which is the main task to produce similarity score.\n"
      ]
    },
    {
      "cell_type": "code",
      "metadata": {
        "id": "loLT2cYnMDp9",
        "colab_type": "code",
        "outputId": "2f5d061f-514f-4ed0-e75c-50de291a0d98",
        "colab": {
          "base_uri": "https://localhost:8080/",
          "height": 108
        }
      },
      "source": [
        "classifier = LogisticRegression(random_state = 0) \n",
        "classifier.fit(training, labels)"
      ],
      "execution_count": 11,
      "outputs": [
        {
          "output_type": "execute_result",
          "data": {
            "text/plain": [
              "LogisticRegression(C=1.0, class_weight=None, dual=False, fit_intercept=True,\n",
              "                   intercept_scaling=1, l1_ratio=None, max_iter=100,\n",
              "                   multi_class='auto', n_jobs=None, penalty='l2',\n",
              "                   random_state=0, solver='lbfgs', tol=0.0001, verbose=0,\n",
              "                   warm_start=False)"
            ]
          },
          "metadata": {
            "tags": []
          },
          "execution_count": 11
        }
      ]
    },
    {
      "cell_type": "markdown",
      "metadata": {
        "id": "rkb5mLonEruZ",
        "colab_type": "text"
      },
      "source": [
        "The **coefficient** of the model is about **-6 for WMD** which makes sense as the documents are similar when the WMD is small, and about **9 for cosine similarity** which also makes sense as cosine similarity has a bigger effect. when there are some similar words then the documents tend to be similar."
      ]
    },
    {
      "cell_type": "code",
      "metadata": {
        "id": "RuSKKwMrMDly",
        "colab_type": "code",
        "outputId": "ad1d9a51-e461-41d3-b0d5-17bf15f3fadf",
        "colab": {
          "base_uri": "https://localhost:8080/",
          "height": 35
        }
      },
      "source": [
        "print(classifier.coef_, classifier.intercept_)\n"
      ],
      "execution_count": 12,
      "outputs": [
        {
          "output_type": "stream",
          "text": [
            "[[ 9.15502306 -5.89666659]] [16.51791304]\n"
          ],
          "name": "stdout"
        }
      ]
    },
    {
      "cell_type": "markdown",
      "metadata": {
        "id": "MH-1EpWUlNWl",
        "colab_type": "text"
      },
      "source": [
        "## Results"
      ]
    },
    {
      "cell_type": "code",
      "metadata": {
        "id": "pkqVIDFKVaII",
        "colab_type": "code",
        "outputId": "18f9df13-cdfd-42d3-a838-bc060511675c",
        "colab": {
          "base_uri": "https://localhost:8080/",
          "height": 35
        }
      },
      "source": [
        "accuracy_score(test_label, classifier.predict(testing))*100"
      ],
      "execution_count": 14,
      "outputs": [
        {
          "output_type": "execute_result",
          "data": {
            "text/plain": [
              "99.75"
            ]
          },
          "metadata": {
            "tags": []
          },
          "execution_count": 14
        }
      ]
    },
    {
      "cell_type": "code",
      "metadata": {
        "id": "8d_c9EJWWE26",
        "colab_type": "code",
        "outputId": "2b8401f9-284c-4fd6-86a1-0a11fa2c2670",
        "colab": {
          "base_uri": "https://localhost:8080/",
          "height": 35
        }
      },
      "source": [
        "mean_squared_error(test_label, classifier.predict_proba(testing)[:,1])"
      ],
      "execution_count": 21,
      "outputs": [
        {
          "output_type": "execute_result",
          "data": {
            "text/plain": [
              "0.009801121222972515"
            ]
          },
          "metadata": {
            "tags": []
          },
          "execution_count": 21
        }
      ]
    },
    {
      "cell_type": "code",
      "metadata": {
        "id": "bpsZLLxbmam1",
        "colab_type": "code",
        "outputId": "6a02a9e9-170a-4509-c2f3-0ba1beafac06",
        "colab": {
          "base_uri": "https://localhost:8080/",
          "height": 72
        }
      },
      "source": [
        "cm = confusion_matrix(test_label, classifier.predict(testing)) \n",
        "print (\"Confusion Matrix : \\n\", cm) "
      ],
      "execution_count": 22,
      "outputs": [
        {
          "output_type": "stream",
          "text": [
            "Confusion Matrix : \n",
            " [[201   0]\n",
            " [  1 198]]\n"
          ],
          "name": "stdout"
        }
      ]
    },
    {
      "cell_type": "code",
      "metadata": {
        "id": "Hnmp2wiItfus",
        "colab_type": "code",
        "outputId": "1f62f6a6-6398-4887-a56c-760372cc5f09",
        "colab": {
          "base_uri": "https://localhost:8080/",
          "height": 279
        }
      },
      "source": [
        "logit_roc_auc = roc_auc_score(val_label, classifier.predict(validation))\n",
        "fpr, tpr, thresholds = roc_curve(val_label, classifier.predict_proba(validation)[:,1])\n",
        "plt.figure()\n",
        "plt.plot(fpr, tpr, label='Logistic Regression (area = %0.2f)' % logit_roc_auc)\n",
        "plt.plot([0, 1], [0, 1],'r--')\n",
        "plt.xlim([0.0, 1.0])\n",
        "plt.ylim([0.0, 1.05])\n",
        "plt.xlabel('False Positive Rate')\n",
        "plt.ylabel('True Positive Rate')\n",
        "plt.legend(loc=\"lower right\")\n",
        "plt.savefig('Log_ROC')\n",
        "plt.show()"
      ],
      "execution_count": 19,
      "outputs": [
        {
          "output_type": "display_data",
          "data": {
            "image/png": "[encoded data removed]",
            "text/plain": [
              "<Figure size 432x288 with 1 Axes>"
            ]
          },
          "metadata": {
            "tags": [],
            "needs_background": "light"
          }
        }
      ]
    },
    {
      "cell_type": "code",
      "metadata": {
        "id": "D5PuylScyqKd",
        "colab_type": "code",
        "outputId": "54d9f7f9-b7c0-4251-b391-a69510bff45a",
        "colab": {
          "base_uri": "https://localhost:8080/",
          "height": 181
        }
      },
      "source": [
        "print(classification_report(classifier.predict(testing), test_label))"
      ],
      "execution_count": 24,
      "outputs": [
        {
          "output_type": "stream",
          "text": [
            "              precision    recall  f1-score   support\n",
            "\n",
            "           0       1.00      1.00      1.00       202\n",
            "           1       0.99      1.00      1.00       198\n",
            "\n",
            "    accuracy                           1.00       400\n",
            "   macro avg       1.00      1.00      1.00       400\n",
            "weighted avg       1.00      1.00      1.00       400\n",
            "\n"
          ],
          "name": "stdout"
        }
      ]
    }
  ]
}